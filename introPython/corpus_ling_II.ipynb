{
 "cells": [
  {
   "cell_type": "code",
   "execution_count": 1,
   "metadata": {
    "collapsed": true
   },
   "outputs": [
    {
     "data": {
      "text/plain": "                     Line Speaker                Title  Act  Scene\n0     Nay, but this do...   PHILO  The Tragedy of A...    1      1\n1     O'erflows the me...   PHILO  The Tragedy of A...    1      1\n2     That o'er the fi...   PHILO  The Tragedy of A...    1      1\n3     Have glow'd like...   PHILO  The Tragedy of A...    1      1\n4     The office and d...   PHILO  The Tragedy of A...    1      1\n...                   ...     ...                  ...  ...    ...\n3060  The sun, for sor...  PRINCE  The Tragedy of R...    5      3\n3061  Go hence, to hav...  PRINCE  The Tragedy of R...    5      3\n3062  Some shall be pa...  PRINCE  The Tragedy of R...    5      3\n3063  For never was a ...  PRINCE  The Tragedy of R...    5      3\n3064  Than this of Jul...  PRINCE  The Tragedy of R...    5      3\n\n[23998 rows x 5 columns]",
      "text/html": "<div>\n<style scoped>\n    .dataframe tbody tr th:only-of-type {\n        vertical-align: middle;\n    }\n\n    .dataframe tbody tr th {\n        vertical-align: top;\n    }\n\n    .dataframe thead th {\n        text-align: right;\n    }\n</style>\n<table border=\"1\" class=\"dataframe\">\n  <thead>\n    <tr style=\"text-align: right;\">\n      <th></th>\n      <th>Line</th>\n      <th>Speaker</th>\n      <th>Title</th>\n      <th>Act</th>\n      <th>Scene</th>\n    </tr>\n  </thead>\n  <tbody>\n    <tr>\n      <th>0</th>\n      <td>Nay, but this do...</td>\n      <td>PHILO</td>\n      <td>The Tragedy of A...</td>\n      <td>1</td>\n      <td>1</td>\n    </tr>\n    <tr>\n      <th>1</th>\n      <td>O'erflows the me...</td>\n      <td>PHILO</td>\n      <td>The Tragedy of A...</td>\n      <td>1</td>\n      <td>1</td>\n    </tr>\n    <tr>\n      <th>2</th>\n      <td>That o'er the fi...</td>\n      <td>PHILO</td>\n      <td>The Tragedy of A...</td>\n      <td>1</td>\n      <td>1</td>\n    </tr>\n    <tr>\n      <th>3</th>\n      <td>Have glow'd like...</td>\n      <td>PHILO</td>\n      <td>The Tragedy of A...</td>\n      <td>1</td>\n      <td>1</td>\n    </tr>\n    <tr>\n      <th>4</th>\n      <td>The office and d...</td>\n      <td>PHILO</td>\n      <td>The Tragedy of A...</td>\n      <td>1</td>\n      <td>1</td>\n    </tr>\n    <tr>\n      <th>...</th>\n      <td>...</td>\n      <td>...</td>\n      <td>...</td>\n      <td>...</td>\n      <td>...</td>\n    </tr>\n    <tr>\n      <th>3060</th>\n      <td>The sun, for sor...</td>\n      <td>PRINCE</td>\n      <td>The Tragedy of R...</td>\n      <td>5</td>\n      <td>3</td>\n    </tr>\n    <tr>\n      <th>3061</th>\n      <td>Go hence, to hav...</td>\n      <td>PRINCE</td>\n      <td>The Tragedy of R...</td>\n      <td>5</td>\n      <td>3</td>\n    </tr>\n    <tr>\n      <th>3062</th>\n      <td>Some shall be pa...</td>\n      <td>PRINCE</td>\n      <td>The Tragedy of R...</td>\n      <td>5</td>\n      <td>3</td>\n    </tr>\n    <tr>\n      <th>3063</th>\n      <td>For never was a ...</td>\n      <td>PRINCE</td>\n      <td>The Tragedy of R...</td>\n      <td>5</td>\n      <td>3</td>\n    </tr>\n    <tr>\n      <th>3064</th>\n      <td>Than this of Jul...</td>\n      <td>PRINCE</td>\n      <td>The Tragedy of R...</td>\n      <td>5</td>\n      <td>3</td>\n    </tr>\n  </tbody>\n</table>\n<p>23998 rows × 5 columns</p>\n</div>"
     },
     "execution_count": 1,
     "metadata": {},
     "output_type": "execute_result"
    }
   ],
   "source": [
    "\n",
    "from nltk.corpus import shakespeare #XMLCorpusreader\n",
    "import pandas as pd\n",
    "\n",
    "result_frames = []\n",
    "\n",
    "pd.options.display.max_colwidth = 20\n",
    "\n",
    "for book in shakespeare.fileids():\n",
    "    play = shakespeare.xml(book)\n",
    "    tmp = pd.DataFrame(\n",
    "        [(line.text, speech.find(\"SPEAKER\").text,\n",
    "          play.find(\"TITLE\").text,\n",
    "          a_index,\n",
    "          s_index)\n",
    "          for a_index, act\n",
    "          in enumerate(play.findall('ACT'), start=1)\n",
    "          for s_index,scene\n",
    "          in enumerate(act.findall('SCENE'), start=1)\n",
    "          for speech\n",
    "          in scene.findall('SPEECH')\n",
    "          for line\n",
    "          in speech.findall(\"LINE\")],\n",
    "            columns =['Line', 'Speaker', 'Title','Act','Scene'])\n",
    "    result_frames.append(tmp)\n",
    "\n",
    "result = pd.concat(result_frames)\n",
    "result.replace(to_replace=[None], value=\"\", inplace=True)\n",
    "result\n"
   ]
  }
 ],
 "metadata": {
  "kernelspec": {
   "display_name": "Python 3",
   "language": "python",
   "name": "python3"
  },
  "language_info": {
   "codemirror_mode": {
    "name": "ipython",
    "version": 2
   },
   "file_extension": ".py",
   "mimetype": "text/x-python",
   "name": "python",
   "nbconvert_exporter": "python",
   "pygments_lexer": "ipython2",
   "version": "2.7.6"
  }
 },
 "nbformat": 4,
 "nbformat_minor": 0
}