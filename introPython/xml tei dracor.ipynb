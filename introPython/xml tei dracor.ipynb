{
 "cells": [
  {
   "cell_type": "code",
   "execution_count": 15,
   "metadata": {
    "collapsed": true
   },
   "outputs": [
    {
     "name": "stdout",
     "output_type": "stream",
     "text": [
      "plays\n",
      " comedies\n",
      "  play\n",
      "  play\n",
      " histories\n",
      "  play\n",
      "  play\n",
      " tragedies\n",
      "  play\n",
      "  play\n"
     ]
    }
   ],
   "source": [
    "#Task 16\n",
    "\n",
    "plays_xml = \"\"\"<plays completeness=\"incomplete\">\n",
    "<comedies>\n",
    "<play year=\"1602\">All's Well That Ends Well</play>\n",
    "<play year=\"1595\">Midsummer Night's Dream</play>\n",
    "</comedies>\n",
    "<histories>\n",
    "<play year=\"1598\">Henry V</play>\n",
    "<play year=\"1592\">Richard III</play>\n",
    "</histories>\n",
    "<tragedies>\n",
    "<play year=\"1605\">Macbeth</play>\n",
    "<play year=\"1593\">Titus Andronicus</play>\n",
    "</tragedies>\n",
    "</plays>\n",
    "\"\"\"\n",
    "\n",
    "import xml.etree.ElementTree as ElementTree\n",
    "\n",
    "doc = ElementTree.fromstring(plays_xml)\n",
    "doc.set(\"new-attribute\", \"Python rules!\")\n",
    "\n",
    "def xml_tree(genre, indentation=0):\n",
    "    print((\" \" * indentation) + genre.tag)\n",
    "    for child in genre:\n",
    "        xml_tree(child, indentation + 1)\n",
    "xml_tree(doc)\n",
    "#ElementTree.tostring(doc)[0:45]\n",
    "#doc.set(\"new\")\n",
    "#ElementTree.dump(doc)"
   ]
  },
  {
   "cell_type": "code",
   "execution_count": null,
   "outputs": [],
   "source": [
    "from nltk.corpus import shakespeare\n",
    "\n",
    "#Task 17\n",
    "import nltk\n",
    "nltk.download('shakespeare')#XMLCorpusreader\n",
    "import pandas as pd\n",
    "\n",
    "\n",
    "#Create a data frame as corpus resource\n",
    "result_frames = []\n",
    "\n",
    "pd.options.display.max_colwidth = 20\n",
    "\n",
    "for book in shakespeare.fileids():\n",
    "    play = shakespeare.xml(book)\n",
    "    tmp = pd.DataFrame(\n",
    "        [( speech.find(\"SPEAKER\").text,\n",
    "          play.find(\"TITLE\").text,\n",
    "          a_index,\n",
    "          s_index)\n",
    "          for a_index, act\n",
    "          in enumerate(play.findall('ACT'), start=1)\n",
    "          for s_index,scene\n",
    "          in enumerate(act.findall('SCENE'), start=1)\n",
    "          for speech\n",
    "          in scene.findall('SPEECH')],\n",
    "            columns =['Speaker', 'Title','Act','Scene'])\n",
    "    result_frames.append(tmp)\n",
    "\n",
    "result = pd.concat(result_frames)\n",
    "result.replace(to_replace=[None], value=\"\", inplace=True)\n",
    "result"
   ],
   "metadata": {
    "collapsed": false,
    "pycharm": {
     "name": "#%%\n"
    }
   }
  }
 ],
 "metadata": {
  "kernelspec": {
   "display_name": "Python 3",
   "language": "python",
   "name": "python3"
  },
  "language_info": {
   "codemirror_mode": {
    "name": "ipython",
    "version": 2
   },
   "file_extension": ".py",
   "mimetype": "text/x-python",
   "name": "python",
   "nbconvert_exporter": "python",
   "pygments_lexer": "ipython2",
   "version": "2.7.6"
  }
 },
 "nbformat": 4,
 "nbformat_minor": 0
}