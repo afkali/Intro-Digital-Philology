{
 "cells": [
  {
   "cell_type": "code",
   "execution_count": null,
   "outputs": [],
   "source": [
    "#Task 1\n",
    "\n",
    "#Ich war voreilig und habe Aufgabe 1 wie Aufgabe 2 verstanden deswegen siehe Task 2"
   ],
   "metadata": {
    "collapsed": false,
    "pycharm": {
     "name": "#%%\n"
    }
   }
  },
  {
   "cell_type": "code",
   "execution_count": null,
   "outputs": [],
   "source": [
    "#Task 2\n",
    "\n",
    "name = 'Nicole'\n",
    "rent = float(999)\n",
    "\n",
    "\n",
    "def rentperday(x, y):\n",
    "    return x / y\n",
    "\n",
    "\n",
    "print(f\"Hello, my name is {name} and i pay {rentperday(rent, 30)}euro rent per day\")"
   ],
   "metadata": {
    "collapsed": false,
    "pycharm": {
     "name": "#%%\n"
    }
   }
  },
  {
   "cell_type": "code",
   "execution_count": null,
   "outputs": [],
   "source": [
    "#Task 3\n",
    "\n",
    "colours = [\"blue\", \"green\", \"yellow\", \"red\"]\n",
    "\n",
    "names = [\"peanut\", \"butter\", \"jelly\", \"time\", \"whoop\"]\n",
    "\n",
    "print(sorted(colours))\n",
    "\n",
    "print(sorted(names))\n",
    "\n",
    "colours.extend(names)\n",
    "\n",
    "print(colours)\n",
    "\n",
    "colours.pop()\n",
    "\n",
    "names.pop()\n"
   ],
   "metadata": {
    "collapsed": false,
    "pycharm": {
     "name": "#%%\n"
    }
   }
  },
  {
   "cell_type": "code",
   "execution_count": 1,
   "metadata": {
    "collapsed": true
   },
   "outputs": [
    {
     "data": {
      "text/plain": "[('Cookie', 123),\n ('Nargiz', 456),\n ('Mariam', 789),\n ('Wieland', 912),\n ('Pikko', 345)]"
     },
     "execution_count": 1,
     "metadata": {},
     "output_type": "execute_result"
    }
   ],
   "source": [
    "#Task 4\n",
    "import random\n",
    "\n",
    "names = ['Cookie', 'Nargiz', 'Mariam', 'Wieland', 'Pikko']\n",
    "ID = [123, 456, 789, 912, 345]\n",
    "\n",
    "list(zip(names, ID))"
   ]
  },
  {
   "cell_type": "code",
   "execution_count": 9,
   "outputs": [
    {
     "data": {
      "text/plain": "{0, 1, 2, 3, 4, 5, 6, 7, 8, 9}"
     },
     "execution_count": 9,
     "metadata": {},
     "output_type": "execute_result"
    }
   ],
   "source": [
    "#Task 5\n",
    "\n",
    "from random import randint\n",
    "\n",
    "num1 = [randint(0,9) for i in range(1000)]\n",
    "num1\n",
    "\n",
    "st = set(num1)\n",
    "\n",
    "st\n",
    "\n",
    "# Wenn man aus der Liste num1 wiederum ein Set generiert, bleiben nur noch die Integer\n",
    "# 0-9 übrig da in Sets generell keine Redundanzen vorkommen."
   ],
   "metadata": {
    "collapsed": false,
    "pycharm": {
     "name": "#%%\n"
    }
   }
  },
  {
   "cell_type": "code",
   "execution_count": null,
   "outputs": [],
   "source": [
    "#Task 7\n",
    "\n",
    "if 5 != 10:\n",
    "    print (\"5 and 10 is not equal but i think it should say are\")\n"
   ],
   "metadata": {
    "collapsed": false,
    "pycharm": {
     "name": "#%%\n"
    }
   }
  },
  {
   "cell_type": "code",
   "execution_count": 3,
   "outputs": [
    {
     "name": "stdout",
     "output_type": "stream",
     "text": [
      "1 \n",
      "1 2 \n",
      "1 2 3 \n",
      "1 2 3 4 \n",
      "1 2 3 4 5 \n"
     ]
    }
   ],
   "source": [
    "#Task 8\n",
    "\n",
    "rows = 5\n",
    "\n",
    "for i in range(1, rows + 1):\n",
    "    for j in range(1, i + 1):\n",
    "        print(j, end=' ')\n",
    "    print('')"
   ],
   "metadata": {
    "collapsed": false,
    "pycharm": {
     "name": "#%%\n"
    }
   }
  },
  {
   "cell_type": "code",
   "execution_count": 4,
   "outputs": [
    {
     "name": "stdout",
     "output_type": "stream",
     "text": [
      "10\n",
      "9\n",
      "8\n",
      "7\n",
      "6\n",
      "5\n",
      "4\n",
      "3\n",
      "2\n",
      "1\n"
     ]
    }
   ],
   "source": [
    "#Task 9\n",
    "\n",
    "i = 10\n",
    "\n",
    "while (i >= 1):\n",
    "    print(i)\n",
    "    i = i - 1"
   ],
   "metadata": {
    "collapsed": false,
    "pycharm": {
     "name": "#%%\n"
    }
   }
  },
  {
   "cell_type": "code",
   "execution_count": 6,
   "outputs": [
    {
     "name": "stdout",
     "output_type": "stream",
     "text": [
      "1352\n",
      "294\n",
      "[('Cookie', 123), ('Pikko', 345), ('Nargiz', 456), ('Mariam', 789), ('Wieland', 912)]\n",
      "[2, 4, 6, 8, 10, 12]\n"
     ]
    }
   ],
   "source": [
    "from random import randint\n",
    "\n",
    "# Task 10\n",
    "\n",
    "###part 1\n",
    "function = lambda a : a + 15\n",
    "print(function(1337))\n",
    "\n",
    "###part 2\n",
    "function2 = lambda x, y : x * y\n",
    "print(function2(42, 7))\n",
    "\n",
    "\n",
    "###part 3\n",
    "names = ['Cookie', 'Nargiz', 'Mariam', 'Wieland', 'Pikko']\n",
    "ID = [123, 456, 789, 912, 345]\n",
    "\n",
    "titatuple = list(zip(names, ID))\n",
    "\n",
    "titatuple.sort(key= lambda x: x[1])\n",
    "\n",
    "print(titatuple)\n",
    "\n",
    "###part 4\n",
    "#meinten Sie \"list of even integers\"? -->\n",
    "\n",
    "numbers = [1,2,3,4,5,6,7,8,9,10,11,12]\n",
    "\n",
    "even_numbers = list(filter(lambda x: x%2 == 0, numbers))\n",
    "\n",
    "print(even_numbers)"
   ],
   "metadata": {
    "collapsed": false,
    "pycharm": {
     "name": "#%%\n"
    }
   }
  },
  {
   "cell_type": "code",
   "execution_count": 11,
   "outputs": [
    {
     "name": "stdout",
     "output_type": "stream",
     "text": [
      "[3, 4, 5, 6, 7, 8, 9, 10, 11, 12, 14, 18, 20, 24, 257, -7, -3, -1, 6, -8]\n",
      "['MANGO', 'KIWI', 'STRAWBERRY', 'GUAVA', 'PINEAPPLE', 'MANDARIN ORANGE']\n"
     ]
    },
    {
     "ename": "AttributeError",
     "evalue": "'str' object has no attribute 'len'",
     "output_type": "error",
     "traceback": [
      "\u001B[1;31m---------------------------------------------------------------------------\u001B[0m",
      "\u001B[1;31mAttributeError\u001B[0m                            Traceback (most recent call last)",
      "Input \u001B[1;32mIn [11]\u001B[0m, in \u001B[0;36m<cell line: 16>\u001B[1;34m()\u001B[0m\n\u001B[0;32m     13\u001B[0m \u001B[38;5;28mprint\u001B[39m(upper)\n\u001B[0;32m     15\u001B[0m \u001B[38;5;66;03m###part 3\u001B[39;00m\n\u001B[1;32m---> 16\u001B[0m only_five \u001B[38;5;241m=\u001B[39m [fruit\u001B[38;5;241m.\u001B[39mlen(fruit) \u001B[38;5;241m==\u001B[39m \u001B[38;5;241m5\u001B[39m \u001B[38;5;28;01mfor\u001B[39;00m fruit \u001B[38;5;129;01min\u001B[39;00m fruits]\n\u001B[0;32m     17\u001B[0m \u001B[38;5;28mprint\u001B[39m(only_five)\n",
      "Input \u001B[1;32mIn [11]\u001B[0m, in \u001B[0;36m<listcomp>\u001B[1;34m(.0)\u001B[0m\n\u001B[0;32m     13\u001B[0m \u001B[38;5;28mprint\u001B[39m(upper)\n\u001B[0;32m     15\u001B[0m \u001B[38;5;66;03m###part 3\u001B[39;00m\n\u001B[1;32m---> 16\u001B[0m only_five \u001B[38;5;241m=\u001B[39m [\u001B[43mfruit\u001B[49m\u001B[38;5;241;43m.\u001B[39;49m\u001B[43mlen\u001B[49m(fruit) \u001B[38;5;241m==\u001B[39m \u001B[38;5;241m5\u001B[39m \u001B[38;5;28;01mfor\u001B[39;00m fruit \u001B[38;5;129;01min\u001B[39;00m fruits]\n\u001B[0;32m     17\u001B[0m \u001B[38;5;28mprint\u001B[39m(only_five)\n",
      "\u001B[1;31mAttributeError\u001B[0m: 'str' object has no attribute 'len'"
     ]
    }
   ],
   "source": [
    "#Task 11\n",
    "\n",
    "fruits = ['mango', 'kiwi', 'strawberry', 'guava', 'pineapple', 'mandarin orange']\n",
    "numbers = [2, 3, 4, 5, 6, 7, 8, 9, 10, 11, 13, 17, 19, 23, 256, -8, -4, -2, 5, -9]\n",
    "\n",
    "###part 1\n",
    "int_on_dates =  [i + 1 for i in numbers]\n",
    "print(int_on_dates)\n",
    "\n",
    "\n",
    "###part 2\n",
    "upper = [x.upper() for x in fruits]\n",
    "print(upper)\n",
    "\n",
    "###part 3\n",
    "only_five = [len(fruit) == 5 for fruit in fruits]\n",
    "print(only_five)"
   ],
   "metadata": {
    "collapsed": false,
    "pycharm": {
     "name": "#%%\n"
    }
   }
  },
  {
   "cell_type": "code",
   "execution_count": 17,
   "outputs": [
    {
     "name": "stdout",
     "output_type": "stream",
     "text": [
      "Tosc\n",
      "cana\n"
     ]
    },
    {
     "data": {
      "text/plain": "[4, 3, 2, 1, 0]"
     },
     "execution_count": 17,
     "metadata": {},
     "output_type": "execute_result"
    }
   ],
   "source": [
    "# Task 12\n",
    "\n",
    "wrd=\"Toscana\"\n",
    "lst=[0,1,2,3,4]\n",
    "\n",
    "###part 1\n",
    "print(wrd[:4])\n",
    "\n",
    "###part 2\n",
    "print(wrd[3:])\n",
    "\n",
    "###part 3\n",
    "lst[::-1]\n",
    "\n",
    "### ich verstehe nicht, warum ich bei wrd explizit print für eine Ausgabe benötige,\n",
    "#und bei lst nicht?\n",
    "\n",
    "\n"
   ],
   "metadata": {
    "collapsed": false,
    "pycharm": {
     "name": "#%%\n"
    }
   }
  }
 ],
 "metadata": {
  "kernelspec": {
   "display_name": "Python 3",
   "language": "python",
   "name": "python3"
  },
  "language_info": {
   "codemirror_mode": {
    "name": "ipython",
    "version": 2
   },
   "file_extension": ".py",
   "mimetype": "text/x-python",
   "name": "python",
   "nbconvert_exporter": "python",
   "pygments_lexer": "ipython2",
   "version": "2.7.6"
  }
 },
 "nbformat": 4,
 "nbformat_minor": 0
}