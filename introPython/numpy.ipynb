{
 "cells": [
  {
   "cell_type": "code",
   "execution_count": 34,
   "metadata": {
    "collapsed": true
   },
   "outputs": [
    {
     "name": "stdout",
     "output_type": "stream",
     "text": [
      "[0. 0. 0. 0. 0. 0. 0. 0. 0. 0.]\n",
      "[0. 0. 0. 0. 1. 0. 0. 0. 0. 0.]\n",
      "[10 11 12 13 14 15 16 17 18 19 20 21 22 23 24 25 26 27 28 29 30 31 32 33\n",
      " 34 35 36 37 38 39 40 41 42 43 44 45 46 47 48]\n",
      "[3 2 1]\n",
      "[[0 1 2]\n",
      " [3 4 5]\n",
      " [6 7 8]]\n",
      "[[1. 0. 0.]\n",
      " [0. 1. 0.]\n",
      " [0. 0. 1.]]\n",
      "[[[0.49033253 0.40945107 0.50200217]\n",
      "  [0.29414786 0.66737934 0.5830455 ]\n",
      "  [0.97500239 0.28708806 0.7281319 ]]\n",
      "\n",
      " [[0.53111474 0.70694977 0.74861114]\n",
      "  [0.50349274 0.21291243 0.43357109]\n",
      "  [0.83186697 0.73653703 0.52922499]]\n",
      "\n",
      " [[0.71843218 0.84050749 0.64733353]\n",
      "  [0.6227016  0.84187876 0.0069902 ]\n",
      "  [0.10303032 0.21173031 0.71577419]]]\n",
      "[[0.98980666 0.72882837 0.10955705 0.53591214 0.36463526 0.86421002\n",
      "  0.26983889 0.58617966 0.20248121 0.60376925]\n",
      " [0.29280584 0.24541506 0.35771499 0.01560243 0.73561634 0.19307472\n",
      "  0.67166984 0.56577443 0.57111875 0.35003181]\n",
      " [0.54221712 0.28298247 0.57447195 0.43692415 0.11558638 0.44732803\n",
      "  0.18045148 0.45390795 0.84115408 0.69790789]\n",
      " [0.3177543  0.70725006 0.37575025 0.02565223 0.38845152 0.63848208\n",
      "  0.57614962 0.57697002 0.5726114  0.84520671]\n",
      " [0.42321194 0.26882927 0.25615505 0.9327154  0.71253599 0.77026359\n",
      "  0.56472589 0.01293092 0.83312618 0.05295636]\n",
      " [0.7846032  0.12597495 0.66268718 0.61445106 0.25236024 0.19534722\n",
      "  0.22365654 0.70139791 0.927715   0.94628808]\n",
      " [0.27456842 0.35094494 0.40333751 0.45135617 0.50211944 0.7029704\n",
      "  0.41365932 0.1543495  0.18258879 0.96068041]\n",
      " [0.58719419 0.6097184  0.71900525 0.38850734 0.39010842 0.86641903\n",
      "  0.87163024 0.49509694 0.07177602 0.22207841]\n",
      " [0.19963812 0.79688264 0.66760559 0.55458428 0.7507582  0.2109363\n",
      "  0.53565549 0.9722846  0.90511679 0.40800207]\n",
      " [0.0253182  0.2196889  0.38652041 0.59623031 0.63481995 0.10080223\n",
      "  0.10921895 0.7392161  0.74100576 0.59054876]]\n",
      " \n",
      "0.012930921130311135 0.9898066621721309\n",
      "0.472223212924656\n",
      "[[1. 1. 1. 1. 1. 1. 1. 1. 1. 1.]\n",
      " [1. 0. 0. 0. 0. 0. 0. 0. 0. 1.]\n",
      " [1. 0. 0. 0. 0. 0. 0. 0. 0. 1.]\n",
      " [1. 0. 0. 0. 0. 0. 0. 0. 0. 1.]\n",
      " [1. 0. 0. 0. 0. 0. 0. 0. 0. 1.]\n",
      " [1. 0. 0. 0. 0. 0. 0. 0. 0. 1.]\n",
      " [1. 0. 0. 0. 0. 0. 0. 0. 0. 1.]\n",
      " [1. 0. 0. 0. 0. 0. 0. 0. 0. 1.]\n",
      " [1. 0. 0. 0. 0. 0. 0. 0. 0. 1.]\n",
      " [1. 1. 1. 1. 1. 1. 1. 1. 1. 1.]]\n",
      "[[0. 0. 0. 0. 0. 0. 0. 0. 0. 0.]\n",
      " [0. 1. 1. 1. 1. 1. 1. 1. 1. 0.]\n",
      " [0. 1. 1. 1. 1. 1. 1. 1. 1. 0.]\n",
      " [0. 1. 1. 1. 1. 1. 1. 1. 1. 0.]\n",
      " [0. 1. 1. 1. 1. 1. 1. 1. 1. 0.]\n",
      " [0. 1. 1. 1. 1. 1. 1. 1. 1. 0.]\n",
      " [0. 1. 1. 1. 1. 1. 1. 1. 1. 0.]\n",
      " [0. 1. 1. 1. 1. 1. 1. 1. 1. 0.]\n",
      " [0. 1. 1. 1. 1. 1. 1. 1. 1. 0.]\n",
      " [0. 0. 0. 0. 0. 0. 0. 0. 0. 0.]]\n"
     ]
    }
   ],
   "source": [
    "#Task 14\n",
    "import numpy as np\n",
    "\n",
    "# Create a null vector of size 10\n",
    "\n",
    "x = np.zeros(10)\n",
    "print(x)\n",
    "\n",
    "# Create a null vector of size 10 but the fifth value which is 1\n",
    "\n",
    "x[4] = 1\n",
    "print(x)\n",
    "\n",
    "# Create a vector with values ranging from 10 to 49\n",
    "\n",
    "y = np.arange(10,49)\n",
    "print(y)\n",
    "\n",
    "# Reverse a vector (first element becomes last)\n",
    "a = np.array([1, 2, 3])\n",
    "print(np.flip(a))\n",
    "\n",
    "# Create a 3x3 matrix with values ranging from 0 to 8\n",
    "z =  np.arange(0, 9).reshape(3,3)\n",
    "print(z)\n",
    "\n",
    "# Find indices of non-zero elements from [1,2,0,0,4,0]\n",
    "b = [1,2,0,0,4,0]\n",
    "np.nonzero(b)\n",
    "\n",
    "# Create a 3x3 identity matrix\n",
    "\n",
    "im = np.identity(3)\n",
    "print(im)\n",
    "\n",
    "# Create a 3x3x3 array with random values\n",
    "tr = np.random.random((3,3,3))\n",
    "print(tr)\n",
    "\n",
    "# Create a 10x10 array with random values and find the minimum and maximum values\n",
    "ten = np.random.random((10,10))\n",
    "print(ten)\n",
    "tenmin, tenmax = ten.min(), ten.max()\n",
    "print(' ')\n",
    "print(tenmin, tenmax)\n",
    "\n",
    "# Create a random vector of size 30 and find the mean value\n",
    "r = np.random.random(30)\n",
    "m = r.mean()\n",
    "print (m)\n",
    "\n",
    "# Create a 2d array with 1 on the border and 0 inside\n",
    "t = np.ones((10,10))\n",
    "t[1:-1,1:-1]=0\n",
    "print(t)\n",
    "\n",
    "\n",
    "# How to add a border (filled with 0’s) around an existing array?\n",
    "# hätte ich das eben anders machen sollen?\n",
    "ten2 = np.zeros((10,10))\n",
    "ten2[1:-1,1:-1]=1\n",
    "print(ten2)"
   ]
  },
  {
   "cell_type": "code",
   "execution_count": 35,
   "outputs": [
    {
     "data": {
      "text/plain": "114"
     },
     "execution_count": 35,
     "metadata": {},
     "output_type": "execute_result"
    }
   ],
   "source": [
    "#Task 15\n",
    "import pandas as pd\n",
    "\n",
    "# Download the file banklist.csv from the Repository Location\n",
    "# Import pandas and read in the banklist.csv file into a dataframe called banks.\n",
    "# Show the head of the dataframe\n",
    "url = 'https://raw.githubusercontent.com/PrateekKumarSingh/Python/master/Python%20for%20Finance/Python-for-Finance-Repo-master/03-%20General%20Pandas/Pandas-Exercises/banklist.csv'\n",
    "banks = pd.read_csv(url)\n",
    "banks.head()\n",
    "\n",
    "# What are the column names?\n",
    "banks.columns\n",
    "\n",
    "# How many States (ST) are represented in this data set?\n",
    "banks['ST'].nunique()\n",
    "\n",
    "# Get a list or array of all the states in the data set.\n",
    "banks['ST'].unique()\n",
    "\n",
    "# What are the top 5 states with the most failed banks?\n",
    "banks.groupby(\"ST\").count().sort_values('Bank Name',ascending=False).iloc[:5]['Bank Name']\n",
    "\n",
    "# What is the most common city in California for a bank to fail in?\n",
    "banks[banks['ST']=='CA'].groupby('City').count().sort_values('Bank Name',ascending=False).head(1)\n",
    "\n",
    "\n",
    "# How many bank names start with the letter ‘s’ ?\n",
    "sum(banks['Bank Name'].apply(lambda name:name[0].upper() =='S'))\n",
    "\n",
    "# How many bank names consist of just two words? (e.g. “First Bank” , “Bank Georgia” )\n",
    "sum(banks['Bank Name'].apply(lambda name: len(name.split())==2))\n",
    "\n"
   ],
   "metadata": {
    "collapsed": false,
    "pycharm": {
     "name": "#%%\n"
    }
   }
  },
  {
   "cell_type": "code",
   "execution_count": 36,
   "outputs": [
    {
     "data": {
      "text/plain": "[<matplotlib.lines.Line2D at 0x2270e9b7a00>]"
     },
     "execution_count": 36,
     "metadata": {},
     "output_type": "execute_result"
    },
    {
     "data": {
      "text/plain": "<Figure size 432x288 with 1 Axes>",
      "image/png": "[encoded data removed]"
     },
     "metadata": {
      "needs_background": "light"
     },
     "output_type": "display_data"
    }
   ],
   "source": [
    "#Task 15 Nummer 2\n",
    "\n",
    "# Inspired by https://github.com/PrateekKumarSingh/Python/tree/master/Python%20for%20Finance/\n",
    "# Python-for-Finance-Repo-master/03-%20General%20Pandas/Pandas-Exercises\n",
    "\n",
    "import numpy as np\n",
    "import matplotlib.pyplot as plt\n",
    "x = np.arange(0,100)\n",
    "y = x*2\n",
    "z = x**2\n",
    "\n",
    "# Create a figure object called fig using plt.figure()\n",
    "# Use add_axes to add an axis to the figure canvas at [0,0,1,1]. Call this new axis ax.\n",
    "# Plot (x,y) on that axes and set the labels and titles.\n",
    "fig = plt.figure()\n",
    "ax = fig.add_axes([0,0,1,1])\n",
    "ax.plot(x,y)\n",
    "ax.set_xlabel('x')\n",
    "ax.set_ylabel('y')\n",
    "ax.set_title('Hello, friend')\n",
    "# Plot (x,z) on the same plot and draw the line in red.\n",
    "ax.plot(x,z,color=\"red\", lw=3)"
   ],
   "metadata": {
    "collapsed": false,
    "pycharm": {
     "name": "#%%\n"
    }
   }
  }
 ],
 "metadata": {
  "kernelspec": {
   "display_name": "Python 3",
   "language": "python",
   "name": "python3"
  },
  "language_info": {
   "codemirror_mode": {
    "name": "ipython",
    "version": 2
   },
   "file_extension": ".py",
   "mimetype": "text/x-python",
   "name": "python",
   "nbconvert_exporter": "python",
   "pygments_lexer": "ipython2",
   "version": "2.7.6"
  }
 },
 "nbformat": 4,
 "nbformat_minor": 0
}